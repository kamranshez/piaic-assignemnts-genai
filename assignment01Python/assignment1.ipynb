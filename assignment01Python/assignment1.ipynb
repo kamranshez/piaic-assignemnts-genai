{
 "cells": [
  {
   "cell_type": "code",
   "execution_count": 3,
   "metadata": {},
   "outputs": [
    {
     "name": "stdout",
     "output_type": "stream",
     "text": [
      "Anton Age is 21\n",
      "Beth Age is 4\n",
      "Chen Age is 5\n",
      "Drew Age is 6\n",
      "Ethan Age is 7\n"
     ]
    }
   ],
   "source": [
    "anton_age : int= 21\n",
    "beth_age : int = 4\n",
    "chen_age: int = 5\n",
    "drew_age: int = 6\n",
    "ethan_age: int = 7\n",
    "\n",
    "print(\"Anton Age is \" + str(anton_age))\n",
    "print(\"Beth Age is \" + str(beth_age))\n",
    "print(\"Chen Age is \" + str(chen_age))\n",
    "print(\"Drew Age is \" + str(drew_age))\n",
    "print(\"Ethan Age is \" + str(ethan_age))\n",
    "\n"
   ]
  }
 ],
 "metadata": {
  "kernelspec": {
   "display_name": "Python 3",
   "language": "python",
   "name": "python3"
  },
  "language_info": {
   "codemirror_mode": {
    "name": "ipython",
    "version": 3
   },
   "file_extension": ".py",
   "mimetype": "text/x-python",
   "name": "python",
   "nbconvert_exporter": "python",
   "pygments_lexer": "ipython3",
   "version": "3.12.0"
  }
 },
 "nbformat": 4,
 "nbformat_minor": 2
}
