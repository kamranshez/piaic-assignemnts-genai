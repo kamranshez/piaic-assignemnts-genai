{
 "cells": [
  {
   "cell_type": "code",
   "execution_count": 3,
   "metadata": {},
   "outputs": [
    {
     "name": "stdout",
     "output_type": "stream",
     "text": [
      "Anton Age is 21\n",
      "Beth Age is 4\n",
      "Chen Age is 5\n",
      "Drew Age is 6\n",
      "Ethan Age is 7\n"
     ]
    }
   ],
   "source": [
    "anton_age : int= 21\n",
    "beth_age : int = 4\n",
    "chen_age: int = 5\n",
    "drew_age: int = 6\n",
    "ethan_age: int = 7\n",
    "\n",
    "print(\"Anton Age is \" + str(anton_age))\n",
    "print(\"Beth Age is \" + str(beth_age))\n",
    "print(\"Chen Age is \" + str(chen_age))\n",
    "print(\"Drew Age is \" + str(drew_age))\n",
    "print(\"Ethan Age is \" + str(ethan_age))\n",
    "\n"
   ]
  },
  {
   "cell_type": "code",
   "execution_count": 5,
   "metadata": {},
   "outputs": [
    {
     "name": "stdout",
     "output_type": "stream",
     "text": [
      "Alice is 30 years old and lives in New York.\n",
      " \n"
     ]
    }
   ],
   "source": [
    "name:str = \"Alice\"\n",
    "age:int = 30\n",
    "city:str = \"New York\"\n",
    "#Alice is 30 years old and lives in New York.\n",
    "\n",
    "print(f\"\"\"{name} is {age} years old and lives in {city}.\n",
    " \"\"\")"
   ]
  },
  {
   "cell_type": "code",
   "execution_count": 8,
   "metadata": {},
   "outputs": [
    {
     "name": "stdout",
     "output_type": "stream",
     "text": [
      "Hello world\n",
      "HELLO WORLD\n",
      "hello world\n"
     ]
    }
   ],
   "source": [
    "s:str = \"hElLo WoRlD\"\n",
    "\n",
    "print(s.capitalize())\n",
    "print(s.upper())\n",
    "print(s.lower())"
   ]
  },
  {
   "cell_type": "code",
   "execution_count": 19,
   "metadata": {},
   "outputs": [
    {
     "name": "stdout",
     "output_type": "stream",
     "text": [
      "16\n",
      "2\n"
     ]
    }
   ],
   "source": [
    "s:str =\"the quick brown fox jumps over the lazy dog\"\n",
    "index:int =s.find('fox')\n",
    "count:int=s.count('the')\n",
    "print(index)\n",
    "print(count)\n"
   ]
  },
  {
   "cell_type": "code",
   "execution_count": 20,
   "metadata": {},
   "outputs": [
    {
     "name": "stdout",
     "output_type": "stream",
     "text": [
      "I love programming in Java\n"
     ]
    }
   ],
   "source": [
    "s:str =\"I love programming in Python\"\n",
    "print(s.replace('Python','Java'))"
   ]
  },
  {
   "cell_type": "code",
   "execution_count": 27,
   "metadata": {},
   "outputs": [
    {
     "name": "stdout",
     "output_type": "stream",
     "text": [
      "['apple,banana,cherry,dates']\n",
      "apple,banana,cherry,dates\n"
     ]
    }
   ],
   "source": [
    "s:str =\"apple,banana,cherry,dates\"\n",
    "print(s.split())\n",
    "print(''.join(s))"
   ]
  },
  {
   "cell_type": "code",
   "execution_count": 63,
   "metadata": {},
   "outputs": [
    {
     "name": "stdout",
     "output_type": "stream",
     "text": [
      "Python is fun!\n",
      "Python is fun!******\n",
      "******Python is fun!\n"
     ]
    }
   ],
   "source": [
    "s:str = \"   Python is fun!   \"\n",
    "\n",
    "# Remove leading and trailing spaces\n",
    "trimmed_s = s.strip()\n",
    "\n",
    "# Left justify with '*' in a field of width 20\n",
    "left_justified = trimmed_s.ljust(20, '*')\n",
    "\n",
    "# Right justify with '*' in a field of width 20\n",
    "right_justified = trimmed_s.rjust(20, '*')\n",
    "\n",
    "# Print the results\n",
    "print(trimmed_s)\n",
    "print(left_justified)\n",
    "print(right_justified)\n"
   ]
  },
  {
   "cell_type": "code",
   "execution_count": 57,
   "metadata": {},
   "outputs": [
    {
     "name": "stdout",
     "output_type": "stream",
     "text": [
      "Binary representation :101101\n"
     ]
    }
   ],
   "source": [
    "num:int = 45\n",
    "\n",
    "binary=\"{0:b}\".format(int(num))\n",
    "\n",
    "print(\"Binary representation :\" + str(binary))"
   ]
  },
  {
   "cell_type": "code",
   "execution_count": 58,
   "metadata": {},
   "outputs": [
    {
     "name": "stdout",
     "output_type": "stream",
     "text": [
      "Power result: 81\n"
     ]
    }
   ],
   "source": [
    "base:int = 3\n",
    "exponent:int = 4\n",
    "print(\"Power result: \" + str(base**exponent))"
   ]
  },
  {
   "cell_type": "code",
   "execution_count": 62,
   "metadata": {},
   "outputs": [
    {
     "name": "stdout",
     "output_type": "stream",
     "text": [
      "Rounded to two decimal places: 12\n",
      "Rounded to two decimal places: 12.35\n"
     ]
    }
   ],
   "source": [
    "value:float = 12.34567\n",
    "print(\"Rounded to two decimal places: \" + str(round(value)))\n",
    "print(\"Rounded to two decimal places: \" + str(round(value,2)))\n"
   ]
  }
 ],
 "metadata": {
  "kernelspec": {
   "display_name": "Python 3",
   "language": "python",
   "name": "python3"
  },
  "language_info": {
   "codemirror_mode": {
    "name": "ipython",
    "version": 3
   },
   "file_extension": ".py",
   "mimetype": "text/x-python",
   "name": "python",
   "nbconvert_exporter": "python",
   "pygments_lexer": "ipython3",
   "version": "3.12.0"
  }
 },
 "nbformat": 4,
 "nbformat_minor": 2
}
