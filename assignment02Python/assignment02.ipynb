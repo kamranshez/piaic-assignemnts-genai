{
 "cells": [
  {
   "cell_type": "code",
   "execution_count": 1,
   "metadata": {},
   "outputs": [
    {
     "name": "stdout",
     "output_type": "stream",
     "text": [
      "The sum of 29 and 20 is 49.\n"
     ]
    }
   ],
   "source": [
    "# Prompt the user to enter the first number\n",
    "first_number = int(input(\"Enter the first number: \"))\n",
    "\n",
    "# Prompt the user to enter the second number\n",
    "second_number = int(input(\"Enter the second number: \"))\n",
    "\n",
    "# Calculate the sum of the two numbers\n",
    "total_sum = first_number + second_number\n",
    "\n",
    "# Print the total sum with an appropriate message\n",
    "print(f\"The sum of {first_number} and {second_number} is {total_sum}.\")\n"
   ]
  },
  {
   "cell_type": "code",
   "execution_count": 2,
   "metadata": {},
   "outputs": [
    {
     "name": "stdout",
     "output_type": "stream",
     "text": [
      "My favorite animal is also cow!\n"
     ]
    }
   ],
   "source": [
    "# Ask the user what their favorite animal is\n",
    "favorite_animal = input(\"What's your favorite animal? \")\n",
    "\n",
    "# Respond with \"My favorite animal is also ___!\"\n",
    "print(f\"My favorite animal is also {favorite_animal}!\")\n"
   ]
  },
  {
   "cell_type": "code",
   "execution_count": 3,
   "metadata": {},
   "outputs": [
    {
     "name": "stdout",
     "output_type": "stream",
     "text": [
      "Temperature: 34.0F = 1.1111111111111112C\n"
     ]
    }
   ],
   "source": [
    "# Prompt the user for a temperature in Fahrenheit\n",
    "degrees_fahrenheit = float(input(\"Enter temperature in Fahrenheit: \"))\n",
    "\n",
    "# Convert the temperature to Celsius\n",
    "degrees_celsius = (degrees_fahrenheit - 32) * 5.0 / 9.0\n",
    "\n",
    "# Output the result\n",
    "print(f\"Temperature: {degrees_fahrenheit}F = {degrees_celsius}C\")\n"
   ]
  },
  {
   "cell_type": "code",
   "execution_count": 4,
   "metadata": {},
   "outputs": [
    {
     "name": "stdout",
     "output_type": "stream",
     "text": [
      "The perimeter of the triangle is 30.0\n"
     ]
    }
   ],
   "source": [
    "# Prompt the user for the length of each side of the triangle\n",
    "side1 = float(input(\"What is the length of side 1? \"))\n",
    "side2 = float(input(\"What is the length of side 2? \"))\n",
    "side3 = float(input(\"What is the length of side 3? \"))\n",
    "\n",
    "# Calculate the perimeter of the triangle\n",
    "perimeter = side1 + side2 + side3\n",
    "\n",
    "# Print the perimeter\n",
    "print(f\"The perimeter of the triangle is {perimeter}\")\n"
   ]
  },
  {
   "cell_type": "code",
   "execution_count": 5,
   "metadata": {},
   "outputs": [
    {
     "name": "stdout",
     "output_type": "stream",
     "text": [
      "45.0 squared is 2025.0\n"
     ]
    }
   ],
   "source": [
    "# Prompt the user to enter a number\n",
    "number = float(input(\"Type a number to see its square: \"))\n",
    "\n",
    "# Calculate the square of the number\n",
    "square = number * number\n",
    "\n",
    "# Print the result\n",
    "print(f\"{number} squared is {square}\")\n"
   ]
  },
  {
   "cell_type": "code",
   "execution_count": 6,
   "metadata": {},
   "outputs": [
    {
     "name": "stdout",
     "output_type": "stream",
     "text": [
      "[1, 2, 4, 5]\n"
     ]
    }
   ],
   "source": [
    "# Initial list\n",
    "numbers = [1, 2, 3, 4, 5]\n",
    "\n",
    "# Use the remove() method to delete the number 3\n",
    "numbers.remove(3)\n",
    "\n",
    "# Print the updated list\n",
    "print(numbers)"
   ]
  },
  {
   "cell_type": "code",
   "execution_count": 7,
   "metadata": {},
   "outputs": [
    {
     "name": "stdout",
     "output_type": "stream",
     "text": [
      "[1, 2, 3, 4, 5, 6]\n"
     ]
    }
   ],
   "source": [
    "# Initial lists\n",
    "list1 = [1, 2, 3]\n",
    "list2 = [4, 5, 6]\n",
    "\n",
    "# Use the extend() method to add the elements of list2 to list1\n",
    "list1.extend(list2)\n",
    "\n",
    "# Print the updated list1\n",
    "print(list1)\n"
   ]
  },
  {
   "cell_type": "code",
   "execution_count": 8,
   "metadata": {},
   "outputs": [
    {
     "name": "stdout",
     "output_type": "stream",
     "text": [
      "Updated list: [10, 20, 30]\n",
      "Removed item: 40\n"
     ]
    }
   ],
   "source": [
    "# Initial list\n",
    "items = [10, 20, 30, 40]\n",
    "\n",
    "# Use the pop() method without any arguments\n",
    "removed_item = items.pop()\n",
    "\n",
    "# Print the updated list and the removed item\n",
    "print(\"Updated list:\", items)\n",
    "print(\"Removed item:\", removed_item)\n"
   ]
  },
  {
   "cell_type": "code",
   "execution_count": 9,
   "metadata": {},
   "outputs": [
    {
     "name": "stdout",
     "output_type": "stream",
     "text": [
      "The index of 'green' is: 2\n"
     ]
    }
   ],
   "source": [
    "# Initial list\n",
    "colors = ['red', 'blue', 'green', 'yellow']\n",
    "\n",
    "# Use the index() method to find the position of 'green'\n",
    "index_of_green = colors.index('green')\n",
    "\n",
    "# Print the index\n",
    "print(\"The index of 'green' is:\", index_of_green)\n"
   ]
  },
  {
   "cell_type": "code",
   "execution_count": 10,
   "metadata": {},
   "outputs": [
    {
     "name": "stdout",
     "output_type": "stream",
     "text": [
      "40\n"
     ]
    }
   ],
   "source": [
    "def get_last_element(lst):\n",
    "    # Print the last element of the list\n",
    "    print(lst[-1])\n",
    "\n",
    "# Example usage:\n",
    "example_list = [10, 20, 30, 40]\n",
    "get_last_element(example_list)\n"
   ]
  },
  {
   "cell_type": "code",
   "execution_count": 1,
   "metadata": {},
   "outputs": [
    {
     "name": "stdout",
     "output_type": "stream",
     "text": [
      "Here's the list: ['2']\n"
     ]
    }
   ],
   "source": [
    "# Initialize an empty list to store the values\n",
    "values = []\n",
    "\n",
    "while True:\n",
    "    # Prompt the user to enter a value\n",
    "    value = input(\"Enter a value: \")\n",
    "    \n",
    "    # If the user presses Enter without typing anything, break the loop\n",
    "    if value == \"\":\n",
    "        break\n",
    "    \n",
    "    # Add the entered value to the list\n",
    "    values.append(value)\n",
    "\n",
    "# Print the final list\n",
    "print(\"Here's the list:\", values)\n"
   ]
  }
 ],
 "metadata": {
  "kernelspec": {
   "display_name": "Python 3",
   "language": "python",
   "name": "python3"
  },
  "language_info": {
   "codemirror_mode": {
    "name": "ipython",
    "version": 3
   },
   "file_extension": ".py",
   "mimetype": "text/x-python",
   "name": "python",
   "nbconvert_exporter": "python",
   "pygments_lexer": "ipython3",
   "version": "3.11.5"
  }
 },
 "nbformat": 4,
 "nbformat_minor": 2
}
